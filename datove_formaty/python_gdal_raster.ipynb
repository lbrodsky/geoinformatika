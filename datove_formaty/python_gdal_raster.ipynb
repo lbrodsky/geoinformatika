{
 "cells": [
  {
   "cell_type": "markdown",
   "metadata": {},
   "source": [
    "___\n",
    "\n",
    "# [ Geoinformatika ] \n",
    "Katedra aplikované geoinformatiky a kartografie, Universita Karlova\n",
    "\n",
    "Lukas Brodsky lukas.brodsky@natur.cuni.cz\n"
   ]
  },
  {
   "cell_type": "markdown",
   "metadata": {},
   "source": [
    "## GDAL-Python rastery\n"
   ]
  },
  {
   "cell_type": "markdown",
   "metadata": {},
   "source": [
    "Tento notebook demonstruje zaklady prace s rastry v Python pomoci knihovny GDAL:  \n",
    "\n",
    "* 1. Cteni rasteru do Numpy matice\n",
    "\n",
    "* 2. Jednocucha mapova algebra \n",
    "\n",
    "* 3. Zapis rasteru na disk\n"
   ]
  },
  {
   "cell_type": "markdown",
   "metadata": {},
   "source": [
    "### Priprava knihoven"
   ]
  },
  {
   "cell_type": "code",
   "execution_count": 4,
   "metadata": {},
   "outputs": [],
   "source": [
    "import os\n",
    "import numpy as np\n",
    "from osgeo import gdal, gdal_array\n",
    "\n",
    "# Cesta k adresari s daty!!! \n",
    "# PATH = './'\n",
    "# PATH = '/mnt/home/k01/Downloads/geoinformatika-main/geodata'\n",
    "PATH = '/Users/lukas/Work/prfuk/vyuka/geoinformatika/src/geoinformatika/geodata/'"
   ]
  },
  {
   "cell_type": "code",
   "execution_count": 5,
   "metadata": {},
   "outputs": [
    {
     "name": "stdout",
     "output_type": "stream",
     "text": [
      "\u001b[34mgeojson\u001b[m\u001b[m    \u001b[34mgeopackage\u001b[m\u001b[m \u001b[34mgml\u001b[m\u001b[m        \u001b[34mraster\u001b[m\u001b[m\r\n"
     ]
    }
   ],
   "source": [
    "! ls $PATH"
   ]
  },
  {
   "cell_type": "code",
   "execution_count": 6,
   "metadata": {},
   "outputs": [
    {
     "name": "stdout",
     "output_type": "stream",
     "text": [
      "\u001b[31mS2A_T33UVR_20180703T101029.tif\u001b[m\u001b[m \u001b[31mua18_cz_buildup.tif\u001b[m\u001b[m\r\n"
     ]
    }
   ],
   "source": [
    "! ls $PATH/raster"
   ]
  },
  {
   "cell_type": "markdown",
   "metadata": {},
   "source": [
    "### Rasterova data"
   ]
  },
  {
   "cell_type": "code",
   "execution_count": 7,
   "metadata": {},
   "outputs": [],
   "source": [
    "raster_fn = os.path.join(PATH, 'raster', 'S2A_T33UVR_20180703T101029.tif')"
   ]
  },
  {
   "cell_type": "code",
   "execution_count": 8,
   "metadata": {},
   "outputs": [
    {
     "data": {
      "text/plain": [
       "'/Users/lukas/Work/prfuk/vyuka/geoinformatika/src/geoinformatika/geodata/raster/S2A_T33UVR_20180703T101029.tif'"
      ]
     },
     "execution_count": 8,
     "metadata": {},
     "output_type": "execute_result"
    }
   ],
   "source": [
    "raster_fn"
   ]
  },
  {
   "cell_type": "markdown",
   "metadata": {},
   "source": [
    "### Cteni rasteru "
   ]
  },
  {
   "cell_type": "code",
   "execution_count": 9,
   "metadata": {},
   "outputs": [],
   "source": [
    "# ovladac / driver \n",
    "driver = gdal.GetDriverByName('Gtiff')"
   ]
  },
  {
   "cell_type": "code",
   "execution_count": 10,
   "metadata": {},
   "outputs": [],
   "source": [
    "# otevreni \n",
    "ds = gdal.Open(raster_fn) "
   ]
  },
  {
   "cell_type": "code",
   "execution_count": 11,
   "metadata": {},
   "outputs": [
    {
     "name": "stdout",
     "output_type": "stream",
     "text": [
      "2292 sloupcu, 1364 radek a 12 kanalu\n"
     ]
    }
   ],
   "source": [
    "# raster dimensions \n",
    "cols = ds.RasterXSize\n",
    "rows = ds.RasterYSize\n",
    "bands = ds.RasterCount\n",
    "\n",
    "print('{} sloupcu, {} radek a {} kanalu'.format(cols, rows, bands))"
   ]
  },
  {
   "cell_type": "code",
   "execution_count": 12,
   "metadata": {},
   "outputs": [],
   "source": [
    "# geo meta\n",
    "projection = ds.GetProjection()\n",
    "geotransform = ds.GetGeoTransform()"
   ]
  },
  {
   "cell_type": "code",
   "execution_count": 13,
   "metadata": {},
   "outputs": [
    {
     "data": {
      "text/plain": [
       "'PROJCS[\"WGS 84 / UTM zone 33N\",GEOGCS[\"WGS 84\",DATUM[\"WGS_1984\",SPHEROID[\"WGS 84\",6378137,298.257223563,AUTHORITY[\"EPSG\",\"7030\"]],AUTHORITY[\"EPSG\",\"6326\"]],PRIMEM[\"Greenwich\",0,AUTHORITY[\"EPSG\",\"8901\"]],UNIT[\"degree\",0.0174532925199433,AUTHORITY[\"EPSG\",\"9122\"]],AUTHORITY[\"EPSG\",\"4326\"]],PROJECTION[\"Transverse_Mercator\"],PARAMETER[\"latitude_of_origin\",0],PARAMETER[\"central_meridian\",15],PARAMETER[\"scale_factor\",0.9996],PARAMETER[\"false_easting\",500000],PARAMETER[\"false_northing\",0],UNIT[\"metre\",1,AUTHORITY[\"EPSG\",\"9001\"]],AXIS[\"Easting\",EAST],AXIS[\"Northing\",NORTH],AUTHORITY[\"EPSG\",\"32633\"]]'"
      ]
     },
     "execution_count": 13,
     "metadata": {},
     "output_type": "execute_result"
    }
   ],
   "source": [
    "projection"
   ]
  },
  {
   "cell_type": "code",
   "execution_count": 14,
   "metadata": {},
   "outputs": [
    {
     "data": {
      "text/plain": [
       "(447370.0, 10.0, 0.0, 5554080.0, 0.0, -10.0)"
      ]
     },
     "execution_count": 14,
     "metadata": {},
     "output_type": "execute_result"
    }
   ],
   "source": [
    "geotransform"
   ]
  },
  {
   "cell_type": "code",
   "execution_count": 15,
   "metadata": {},
   "outputs": [
    {
     "name": "stdout",
     "output_type": "stream",
     "text": [
      "pocatek X: 447370.0, pocatek Y: 5554080.0 a velikost pixelu: 10.0 m.\n"
     ]
    }
   ],
   "source": [
    "# geotransformacni metadata\n",
    "originX = geotransform[0]\n",
    "originY = geotransform[3]\n",
    "pixelWidth = geotransform[1]\n",
    "pixelHeight = geotransform[5]\n",
    "\n",
    "print('pocatek X: {}, pocatek Y: {} a velikost pixelu: {} m.'.format(originX, originY, pixelWidth))"
   ]
  },
  {
   "cell_type": "code",
   "execution_count": 16,
   "metadata": {},
   "outputs": [],
   "source": [
    "# nacteni vsech kanalu \n",
    "img = np.zeros((ds.RasterYSize, ds.RasterXSize, ds.RasterCount),\n",
    "               gdal_array.GDALTypeCodeToNumericTypeCode(ds.GetRasterBand(1).DataType))\n",
    "\n",
    "for b in range(img.shape[2]):\n",
    "    img[:, :, b] = ds.GetRasterBand(b + 1).ReadAsArray()"
   ]
  },
  {
   "cell_type": "code",
   "execution_count": 17,
   "metadata": {},
   "outputs": [
    {
     "data": {
      "text/plain": [
       "(1364, 2292, 12)"
      ]
     },
     "execution_count": 17,
     "metadata": {},
     "output_type": "execute_result"
    }
   ],
   "source": [
    "img.shape"
   ]
  },
  {
   "cell_type": "code",
   "execution_count": 18,
   "metadata": {},
   "outputs": [
    {
     "data": {
      "text/plain": [
       "array([[[14, 18, 24, ..., 42, 29, 29],\n",
       "        [14, 19, 24, ..., 44, 30, 30],\n",
       "        [14, 19, 24, ..., 44, 30, 30],\n",
       "        ...,\n",
       "        [ 5,  5,  3, ..., 14,  7,  7],\n",
       "        [ 5,  6,  4, ..., 14,  7,  7],\n",
       "        [ 5,  8,  4, ..., 19,  9,  9]],\n",
       "\n",
       "       [[13, 18, 23, ..., 42, 29, 29],\n",
       "        [13, 19, 24, ..., 44, 30, 30],\n",
       "        [14, 19, 25, ..., 44, 30, 30],\n",
       "        ...,\n",
       "        [ 4,  5,  3, ..., 14,  7,  7],\n",
       "        [ 4,  4,  3, ..., 14,  7,  7],\n",
       "        [ 4,  5,  3, ..., 19,  9,  9]],\n",
       "\n",
       "       [[14, 19, 24, ..., 43, 30, 30],\n",
       "        [14, 19, 25, ..., 44, 30, 30],\n",
       "        [14, 20, 26, ..., 44, 30, 30],\n",
       "        ...,\n",
       "        [ 5,  6,  4, ..., 26, 12, 12],\n",
       "        [ 4,  7,  3, ..., 26, 12, 12],\n",
       "        [ 4,  5,  2, ..., 24, 10, 10]],\n",
       "\n",
       "       ...,\n",
       "\n",
       "       [[13, 17, 23, ..., 49, 34, 34],\n",
       "        [13, 18, 22, ..., 47, 32, 32],\n",
       "        [13, 18, 22, ..., 47, 32, 32],\n",
       "        ...,\n",
       "        [28, 30, 32, ..., 56, 45, 45],\n",
       "        [29, 31, 35, ..., 56, 45, 45],\n",
       "        [19, 24, 25, ..., 67, 49, 49]],\n",
       "\n",
       "       [[13, 17, 22, ..., 47, 32, 32],\n",
       "        [13, 18, 23, ..., 46, 31, 31],\n",
       "        [13, 18, 22, ..., 46, 31, 31],\n",
       "        ...,\n",
       "        [31, 34, 35, ..., 69, 53, 53],\n",
       "        [30, 33, 33, ..., 69, 53, 53],\n",
       "        [14, 22, 23, ..., 74, 54, 54]],\n",
       "\n",
       "       [[13, 18, 22, ..., 47, 32, 32],\n",
       "        [13, 17, 22, ..., 46, 31, 31],\n",
       "        [13, 18, 22, ..., 46, 31, 31],\n",
       "        ...,\n",
       "        [19, 26, 30, ..., 69, 53, 53],\n",
       "        [27, 32, 32, ..., 69, 53, 53],\n",
       "        [21, 27, 30, ..., 74, 54, 54]]], dtype=uint8)"
      ]
     },
     "execution_count": 18,
     "metadata": {},
     "output_type": "execute_result"
    }
   ],
   "source": [
    "img"
   ]
  },
  {
   "cell_type": "markdown",
   "metadata": {},
   "source": [
    "### Mapova algebra "
   ]
  },
  {
   "cell_type": "code",
   "execution_count": 19,
   "metadata": {},
   "outputs": [],
   "source": [
    "RED = 2\n",
    "NIR = 3\n",
    "index = img[:,:,NIR] + img[:,:,RED]"
   ]
  },
  {
   "cell_type": "code",
   "execution_count": 20,
   "metadata": {},
   "outputs": [
    {
     "data": {
      "text/plain": [
       "array([[55, 56, 56, ..., 10, 11, 13],\n",
       "       [54, 56, 57, ..., 10, 10, 12],\n",
       "       [57, 58, 59, ..., 15, 14, 10],\n",
       "       ...,\n",
       "       [53, 53, 53, ..., 65, 68, 59],\n",
       "       [52, 54, 53, ..., 74, 72, 64],\n",
       "       [52, 53, 53, ..., 69, 71, 71]], dtype=uint8)"
      ]
     },
     "execution_count": 20,
     "metadata": {},
     "output_type": "execute_result"
    }
   ],
   "source": [
    "# ... jina analyza \n",
    "index"
   ]
  },
  {
   "cell_type": "markdown",
   "metadata": {},
   "source": [
    "### Zapis noveho raster"
   ]
  },
  {
   "cell_type": "code",
   "execution_count": 21,
   "metadata": {},
   "outputs": [],
   "source": [
    "# priprava datove souboru, index.tif zmente na cokoliv jineho! \n",
    "jmeno_souboru = os.path.join(PATH, 'raster', 'index.tif')\n",
    "vystup_ds = driver.Create(jmeno_souboru, ds.RasterXSize, ds.RasterYSize,  1, gdal.GDT_Int16)"
   ]
  },
  {
   "cell_type": "code",
   "execution_count": 22,
   "metadata": {},
   "outputs": [],
   "source": [
    "# zapsani matice \n",
    "vystupni_kanal = vystup_ds.GetRasterBand(1).WriteArray(index)"
   ]
  },
  {
   "cell_type": "code",
   "execution_count": 23,
   "metadata": {},
   "outputs": [
    {
     "data": {
      "text/plain": [
       "0"
      ]
     },
     "execution_count": 23,
     "metadata": {},
     "output_type": "execute_result"
    }
   ],
   "source": [
    "vystupni_kanal"
   ]
  },
  {
   "cell_type": "code",
   "execution_count": 24,
   "metadata": {},
   "outputs": [
    {
     "data": {
      "text/plain": [
       "0"
      ]
     },
     "execution_count": 24,
     "metadata": {},
     "output_type": "execute_result"
    }
   ],
   "source": [
    "# zapis geo metadat\n",
    "vystup_ds.SetProjection(projection)\n",
    "vystup_ds.SetGeoTransform(geotransform)"
   ]
  },
  {
   "cell_type": "code",
   "execution_count": null,
   "metadata": {},
   "outputs": [],
   "source": [
    "# vystup_ds.GetRasterBand(1).SetNoDataValue(10000)"
   ]
  },
  {
   "cell_type": "code",
   "execution_count": 25,
   "metadata": {},
   "outputs": [],
   "source": [
    "# zapsani na disk \n",
    "vystup_ds = None"
   ]
  },
  {
   "cell_type": "code",
   "execution_count": 26,
   "metadata": {},
   "outputs": [],
   "source": [
    "# uklid\n",
    "img = None\n",
    "ds = None"
   ]
  },
  {
   "cell_type": "code",
   "execution_count": 27,
   "metadata": {},
   "outputs": [
    {
     "data": {
      "text/plain": [
       "True"
      ]
     },
     "execution_count": 27,
     "metadata": {},
     "output_type": "execute_result"
    }
   ],
   "source": [
    "os.path.isfile(jmeno_souboru)"
   ]
  },
  {
   "cell_type": "code",
   "execution_count": null,
   "metadata": {},
   "outputs": [],
   "source": []
  }
 ],
 "metadata": {
  "kernelspec": {
   "display_name": "Python 3 (ipykernel)",
   "language": "python",
   "name": "python3"
  },
  "language_info": {
   "codemirror_mode": {
    "name": "ipython",
    "version": 3
   },
   "file_extension": ".py",
   "mimetype": "text/x-python",
   "name": "python",
   "nbconvert_exporter": "python",
   "pygments_lexer": "ipython3",
   "version": "3.9.10"
  },
  "nav_menu": {
   "height": "252px",
   "width": "333px"
  },
  "toc": {
   "navigate_menu": true,
   "number_sections": true,
   "sideBar": true,
   "threshold": 6,
   "toc_cell": false,
   "toc_section_display": "block",
   "toc_window_display": false
  }
 },
 "nbformat": 4,
 "nbformat_minor": 1
}
