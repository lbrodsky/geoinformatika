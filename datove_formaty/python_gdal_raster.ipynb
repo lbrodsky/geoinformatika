{
 "cells": [
  {
   "cell_type": "markdown",
   "metadata": {},
   "source": [
    "___\n",
    "\n",
    "# [ Geoinformatika ] \n",
    "Katedra aplikované geoinformatiky a kartografie, Universita Karlova\n",
    "\n",
    "Lukas Brodsky lukas.brodsky@natur.cuni.cz\n"
   ]
  },
  {
   "cell_type": "markdown",
   "metadata": {},
   "source": [
    "## GDAL-Python rastery\n"
   ]
  },
  {
   "cell_type": "markdown",
   "metadata": {},
   "source": [
    "Tento notebook demonstruje zaklady prace s rastry v Python pomoci knihovny GDAL:  \n",
    "\n",
    "* 1. Cteni rasteru do Numpy matice\n",
    "\n",
    "* 2. Jednocucha mapova algebra \n",
    "\n",
    "* 3. Zapis rasteru na disk\n"
   ]
  },
  {
   "cell_type": "markdown",
   "metadata": {},
   "source": [
    "### Priprava knihoven"
   ]
  },
  {
   "cell_type": "code",
   "execution_count": null,
   "metadata": {},
   "outputs": [],
   "source": [
    "import os\n",
    "import numpy as np\n",
    "from osgeo import gdal, gdal_array\n",
    "\n",
    "# Cesta k adresari s daty!!! \n",
    "# PATH = './'\n",
    "PATH = '/mnt/home/k01/Downloads/geoinformatika-main/geodata'"
   ]
  },
  {
   "cell_type": "code",
   "execution_count": null,
   "metadata": {},
   "outputs": [],
   "source": [
    "! ls $PATH"
   ]
  },
  {
   "cell_type": "code",
   "execution_count": null,
   "metadata": {},
   "outputs": [],
   "source": [
    "! ls $PATH/raster"
   ]
  },
  {
   "cell_type": "markdown",
   "metadata": {},
   "source": [
    "### Rasterova data"
   ]
  },
  {
   "cell_type": "code",
   "execution_count": null,
   "metadata": {},
   "outputs": [],
   "source": [
    "raster_fn = os.path.join(PATH, 'raster', 'S2A_T33UVR_20180703T101029.tif')"
   ]
  },
  {
   "cell_type": "markdown",
   "metadata": {},
   "source": [
    "### Cteni rasteru "
   ]
  },
  {
   "cell_type": "code",
   "execution_count": null,
   "metadata": {},
   "outputs": [],
   "source": [
    "# ovladac / driver \n",
    "driver = gdal.GetDriverByName('Gtiff')"
   ]
  },
  {
   "cell_type": "code",
   "execution_count": null,
   "metadata": {},
   "outputs": [],
   "source": [
    "# otevreni \n",
    "ds = gdal.Open(raster_fn) "
   ]
  },
  {
   "cell_type": "code",
   "execution_count": null,
   "metadata": {},
   "outputs": [],
   "source": [
    "# raster dimensions \n",
    "cols = ds.RasterXSize\n",
    "rows = ds.RasterYSize\n",
    "bands = ds.RasterCount\n",
    "\n",
    "print('{} sloupcu, {} radek a {} kanalu'.format(cols, rows, bands))"
   ]
  },
  {
   "cell_type": "code",
   "execution_count": null,
   "metadata": {},
   "outputs": [],
   "source": [
    "# geo meta\n",
    "projection = ds.GetProjection()\n",
    "geotransform = ds.GetGeoTransform()"
   ]
  },
  {
   "cell_type": "code",
   "execution_count": null,
   "metadata": {},
   "outputs": [],
   "source": [
    "# geotransformacni metadata\n",
    "originX = geotransform[0]\n",
    "originY = geotransform[3]\n",
    "pixelWidth = geotransform[1]\n",
    "pixelHeight = geotransform[5]\n",
    "\n",
    "print('pocatek X: {}, pocatek Y: {} a velikost pixelu: {} m.'.format(originX, originY, pixelWidth))"
   ]
  },
  {
   "cell_type": "code",
   "execution_count": null,
   "metadata": {},
   "outputs": [],
   "source": [
    "# nacteni vsech kanalu \n",
    "img = np.zeros((ds.RasterYSize, ds.RasterXSize, ds.RasterCount),\n",
    "               gdal_array.GDALTypeCodeToNumericTypeCode(ds.GetRasterBand(1).DataType))\n",
    "\n",
    "for b in range(img.shape[2]):\n",
    "    img[:, :, b] = ds.GetRasterBand(b + 1).ReadAsArray()"
   ]
  },
  {
   "cell_type": "code",
   "execution_count": null,
   "metadata": {},
   "outputs": [],
   "source": [
    "img.shape"
   ]
  },
  {
   "cell_type": "markdown",
   "metadata": {},
   "source": [
    "### Mapova algebra "
   ]
  },
  {
   "cell_type": "code",
   "execution_count": null,
   "metadata": {},
   "outputs": [],
   "source": [
    "RED = 1\n",
    "NIR = 4\n",
    "index = img[:,:,NIR] + img[:,:,RED]"
   ]
  },
  {
   "cell_type": "code",
   "execution_count": null,
   "metadata": {},
   "outputs": [],
   "source": [
    "# ... jina analyza "
   ]
  },
  {
   "cell_type": "markdown",
   "metadata": {},
   "source": [
    "### Zapis noveho raster"
   ]
  },
  {
   "cell_type": "code",
   "execution_count": null,
   "metadata": {},
   "outputs": [],
   "source": [
    "# priprava datove souboru, index.tif zmente na cokoliv jineho! \n",
    "jmeno_souboru = os.path.join(PATH, 'raster', 'index.tif')\n",
    "vystup_ds = driver.Create(jmeno_souboru, ds.RasterXSize, ds.RasterYSize,  1, gdal.GDT_Int16)"
   ]
  },
  {
   "cell_type": "code",
   "execution_count": null,
   "metadata": {},
   "outputs": [],
   "source": [
    "# zapsani matice \n",
    "vystupni_kanal = vystup_ds.GetRasterBand(1).WriteArray(index)"
   ]
  },
  {
   "cell_type": "code",
   "execution_count": null,
   "metadata": {},
   "outputs": [],
   "source": [
    "# zapis geo metadat\n",
    "vystup_ds.SetProjection(projection)\n",
    "vystup_ds.SetGeoTransform(geotransform)"
   ]
  },
  {
   "cell_type": "code",
   "execution_count": null,
   "metadata": {},
   "outputs": [],
   "source": [
    "# vystup_ds.GetRasterBand(1).SetNoDataValue(10000)"
   ]
  },
  {
   "cell_type": "code",
   "execution_count": null,
   "metadata": {},
   "outputs": [],
   "source": [
    "# zapsani na disk \n",
    "vystup_ds = None"
   ]
  },
  {
   "cell_type": "code",
   "execution_count": null,
   "metadata": {},
   "outputs": [],
   "source": [
    "# uklid\n",
    "img = None\n",
    "ds = None"
   ]
  },
  {
   "cell_type": "code",
   "execution_count": null,
   "metadata": {},
   "outputs": [],
   "source": [
    "os.path.isfile(jmeno_souboru)"
   ]
  },
  {
   "cell_type": "code",
   "execution_count": null,
   "metadata": {},
   "outputs": [],
   "source": []
  }
 ],
 "metadata": {
  "kernelspec": {
   "display_name": "Python 3 (ipykernel)",
   "language": "python",
   "name": "python3"
  },
  "language_info": {
   "codemirror_mode": {
    "name": "ipython",
    "version": 3
   },
   "file_extension": ".py",
   "mimetype": "text/x-python",
   "name": "python",
   "nbconvert_exporter": "python",
   "pygments_lexer": "ipython3",
   "version": "3.9.10"
  },
  "nav_menu": {
   "height": "252px",
   "width": "333px"
  },
  "toc": {
   "navigate_menu": true,
   "number_sections": true,
   "sideBar": true,
   "threshold": 6,
   "toc_cell": false,
   "toc_section_display": "block",
   "toc_window_display": false
  }
 },
 "nbformat": 4,
 "nbformat_minor": 1
}
