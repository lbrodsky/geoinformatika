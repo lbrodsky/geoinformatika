{
 "cells": [
  {
   "cell_type": "markdown",
   "id": "favorite-celebrity",
   "metadata": {},
   "source": [
    "### Test Jupyter Notebook"
   ]
  },
  {
   "cell_type": "code",
   "execution_count": null,
   "id": "prepared-partition",
   "metadata": {},
   "outputs": [],
   "source": [
    "import os"
   ]
  },
  {
   "cell_type": "code",
   "execution_count": null,
   "id": "42a3cf5b",
   "metadata": {},
   "outputs": [],
   "source": [
    "# rastry\n",
    "try:\n",
    "    from osgeo import gdal\n",
    "    print('GDAL verze: {}'.format(gdal.__version__)) \n",
    "except:\n",
    "    print('GDAL nelze nacist!')\n",
    "    print('Instaluj GDAL a pote GDAL-Python')"
   ]
  },
  {
   "cell_type": "code",
   "execution_count": null,
   "id": "86eb0a62",
   "metadata": {},
   "outputs": [],
   "source": [
    "# numericky Python (matice) \n",
    "try:\n",
    "    import numpy as np \n",
    "    print('Numpy verze: {}'.format(np.__version__)) \n",
    "except:\n",
    "    print('Numpy nelze nacist!')\n",
    "    print('Instaluj napr.: pip install numpy')\n",
    "    print('nebo pomoci Anacondy: conda install numpy')"
   ]
  },
  {
   "cell_type": "code",
   "execution_count": null,
   "id": "5f8f1002",
   "metadata": {},
   "outputs": [],
   "source": [
    "# vektory\n",
    "try:\n",
    "    import geopandas as gpd \n",
    "    print('GPD take funguje')\n",
    "except:\n",
    "    print('GPD nelze nacist!')\n",
    "    print('Instaluj GPD napr. pip install geopandas')"
   ]
  },
  {
   "cell_type": "code",
   "execution_count": null,
   "id": "fd5fb931",
   "metadata": {},
   "outputs": [],
   "source": [
    "# dalsi knihovny pozdeji "
   ]
  }
 ],
 "metadata": {
  "kernelspec": {
   "display_name": "Python 3 (ipykernel)",
   "language": "python",
   "name": "python3"
  },
  "language_info": {
   "codemirror_mode": {
    "name": "ipython",
    "version": 3
   },
   "file_extension": ".py",
   "mimetype": "text/x-python",
   "name": "python",
   "nbconvert_exporter": "python",
   "pygments_lexer": "ipython3",
   "version": "3.9.10"
  }
 },
 "nbformat": 4,
 "nbformat_minor": 5
}
