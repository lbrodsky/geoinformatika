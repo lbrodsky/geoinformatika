{
 "cells": [
  {
   "cell_type": "markdown",
   "id": "2f179579",
   "metadata": {},
   "source": [
    "## Overte instalovane balicky Python3 "
   ]
  },
  {
   "cell_type": "code",
   "execution_count": 1,
   "id": "540e9189",
   "metadata": {},
   "outputs": [
    {
     "name": "stdout",
     "output_type": "stream",
     "text": [
      "Numpy verze: 1.20.2\n"
     ]
    }
   ],
   "source": [
    "try:\n",
    "    import numpy as np \n",
    "    print('Numpy verze: {}'.format(np.__version__)) \n",
    "except:\n",
    "    print('Numpy knihovna  nelze nacist!')\n",
    "    print('Instaluj napr.: pip3 install numpy ')\n",
    "    print('nebo s vyuzitim conda')"
   ]
  },
  {
   "cell_type": "code",
   "execution_count": 2,
   "id": "b4704f43",
   "metadata": {},
   "outputs": [
    {
     "name": "stdout",
     "output_type": "stream",
     "text": [
      "Pandas verze: 1.4.0\n"
     ]
    }
   ],
   "source": [
    "try:\n",
    "    import pandas as pd \n",
    "    print('Pandas verze: {}'.format(pd.__version__)) \n",
    "except:\n",
    "    print('Pandas knihovna  nelze nacist!')\n",
    "    print('Instaluj napr.: pip3 install pandas')"
   ]
  },
  {
   "cell_type": "code",
   "execution_count": 3,
   "id": "fd8d3302",
   "metadata": {},
   "outputs": [
    {
     "name": "stdout",
     "output_type": "stream",
     "text": [
      "\n",
      "System:\n",
      "    python: 3.9.10 (v3.9.10:f2f3f53782, Jan 13 2022, 16:55:46)  [Clang 13.0.0 (clang-1300.0.29.30)]\n",
      "executable: /Library/Frameworks/Python.framework/Versions/3.9/bin/python3.9\n",
      "   machine: macOS-10.15.5-x86_64-i386-64bit\n",
      "\n",
      "Python dependencies:\n",
      "          pip: 22.2.2\n",
      "   setuptools: 58.1.0\n",
      "      sklearn: 1.0.2\n",
      "        numpy: 1.20.2\n",
      "        scipy: 1.7.3\n",
      "       Cython: None\n",
      "       pandas: 1.4.0\n",
      "   matplotlib: 3.4.0\n",
      "       joblib: 1.1.0\n",
      "threadpoolctl: 3.1.0\n",
      "\n",
      "Built with OpenMP: True\n",
      "Sklearn verze: None\n"
     ]
    }
   ],
   "source": [
    "try:\n",
    "    import sklearn  \n",
    "    print('Sklearn verze: {}'.format(sklearn.show_versions()))\n",
    "except:\n",
    "    print('Sklearn knihovna nelze nacist!')\n",
    "    print('Instaluj napr.: pip3 install sklearn')"
   ]
  },
  {
   "cell_type": "code",
   "execution_count": 4,
   "id": "9608666b",
   "metadata": {},
   "outputs": [
    {
     "name": "stdout",
     "output_type": "stream",
     "text": [
      "Matplotlib verze: 3.4.0\n"
     ]
    }
   ],
   "source": [
    "try:\n",
    "    import matplotlib \n",
    "    %matplotlib inline \n",
    "    print('Matplotlib verze: {}'.format(matplotlib.__version__)) \n",
    "except:\n",
    "    print('Matplotlib knihovna nelze nacist!')\n",
    "    print('Instaluj napr.: pip3 install matplotlib')"
   ]
  },
  {
   "cell_type": "code",
   "execution_count": 5,
   "id": "93a3f9c3",
   "metadata": {},
   "outputs": [
    {
     "name": "stdout",
     "output_type": "stream",
     "text": [
      "Seaborn verze: 0.11.2\n"
     ]
    }
   ],
   "source": [
    "try:\n",
    "    import seaborn as sns \n",
    "    print('Seaborn verze: {}'.format(sns.__version__)) \n",
    "except:\n",
    "    print('Seaborn knihovna nelze nacist!')\n",
    "    print('Instaluj napr.: pip3 install seaborn')"
   ]
  },
  {
   "cell_type": "code",
   "execution_count": 6,
   "id": "217e4c00",
   "metadata": {},
   "outputs": [],
   "source": [
    "# pip3 install notebook "
   ]
  },
  {
   "cell_type": "code",
   "execution_count": null,
   "id": "fc285701",
   "metadata": {},
   "outputs": [],
   "source": []
  }
 ],
 "metadata": {
  "kernelspec": {
   "display_name": "Python 3 (ipykernel)",
   "language": "python",
   "name": "python3"
  },
  "language_info": {
   "codemirror_mode": {
    "name": "ipython",
    "version": 3
   },
   "file_extension": ".py",
   "mimetype": "text/x-python",
   "name": "python",
   "nbconvert_exporter": "python",
   "pygments_lexer": "ipython3",
   "version": "3.9.10"
  }
 },
 "nbformat": 4,
 "nbformat_minor": 5
}
