{
 "cells": [
  {
   "cell_type": "markdown",
   "id": "ed1f5e77",
   "metadata": {},
   "source": [
    "# ___\n",
    "# [ Geoinformatika ]\n",
    "\n",
    "## Strojové učení\n",
    "\n",
    "\n",
    "**Katedra aplikované geoinformatiky a kartografie**, Přírodovědecká fakulta, Univerzita Karlova\n",
    "Albertov 6, 128 43 Praha 2\n",
    "\n",
    "*Lukáš Brodský lukas.brodsky@natur.cuni.cz*"
   ]
  },
  {
   "cell_type": "markdown",
   "id": "b68473a1",
   "metadata": {},
   "source": [
    "### Rozhodovací strom *(Decision tree)* v Pythonu \n"
   ]
  },
  {
   "cell_type": "markdown",
   "id": "f1ee896f",
   "metadata": {},
   "source": [
    "Tento Jupyter notbooku demonstruje strojové učení s využitím algoritmu rozhodovací strom z knihovny Scikit learn (*https://scikit-learn.org*). \n",
    "\n",
    "\n",
    "Rozhodovaci strom je acyklický graf. \n",
    "Princip (pravidla s prahovou hodnotou): \n",
    "1/ příznak < prahová_hodnota  -> pokračuj v levé větvi stromu, jinak vpravo, \n",
    "2/ po dosažení listu rozhodneme o klasifikované třídě. "
   ]
  },
  {
   "cell_type": "code",
   "execution_count": null,
   "id": "d94baa86",
   "metadata": {},
   "outputs": [],
   "source": [
    "# vizualizace stromu \n",
    "from matplotlib.pyplot import figure\n",
    "import matplotlib.image as mpimg\n",
    "\n",
    "dt = mpimg.imread('rozhodovaci_strom.png')\n",
    "plt.figure(figsize=(4, 4), dpi=100)\n",
    "plt.axis('off')\n",
    "plt.imshow(dt)"
   ]
  },
  {
   "cell_type": "markdown",
   "id": "77ddcc46",
   "metadata": {},
   "source": [
    "**Popis stromu**: \n",
    "\n",
    "* Kořenový uzel: první uzel, kde dochází k rozdělení.    \n",
    "* Uzel Leaf: uzel, po kterém už nedochází k větvení.\n",
    "* Rozhodovací uzel: uzel vytvořený po rozdělení dat z předchozího uzlu je známý jako rozhodovací uzel.    \n",
    "* Větev: subsekce stromu obsahující informace o následcích rozdělení v rozhodovacím uzlu.\n",
    "   \n",
    "\n",
    "**Definice problému**: \n",
    "Mějme množinu dat s referencemi (lables) nabívající  hodnot {0, 1}. Chceme sestrojit rozhodovací strom, který předpoví třídu na základě vstupního vektoru příznaků. Hledáme nejlepší pravidla která rozdělí množinu pozorovaných hodnot, tak že získáme nejlepší podobnost s referencí.\n",
    "\n",
    "**Řešení**: \n",
    "Hledáme řešení přes všechny příznaky j = 1,…,D a všechny prahové hodnoty t a rozdělujem množinu S na dvě podmnožiny: S- a S+. Pro všechny možné kombinace (j, t) hodnotíme jak dobré je rozdělení na podmnožiny S- a S+. Nakonec vybereme nejlepší řešení. \n",
    "\n",
    "**Jak?**\n",
    "\n",
    "Potřebujeme **rozhodovací kritérium**: např. Gini index \n",
    "\n",
    "$$ Gini = 1 - ∑(p_t^2), $$ \n",
    "\n",
    "    kde pt je relativní počet příkladů t-té třídy zjišťovaný na nějaké (pod)množině.\n",
    "\n",
    "\n",
    "**Sestavení stromu**: \n",
    "Iterace, pro větvení použijeme atribut, který bude mít nejmenší hodnotu tohoto indexu. \n",
    "\n",
    "**Algoritmus končí když**:\n",
    "* Jsou všechny reference klasifikovány v listu, \n",
    "* Strom dosáhne určité definované hloubky (max_depth), \n",
    "* Nemůže nalézt příznak na základě kterého by dále dělil podmnožinu, \n",
    "* Případně, rozdělení redukuje Gini méně než definovaná hodnota epsilon.\n"
   ]
  },
  {
   "cell_type": "markdown",
   "id": "58a5450b",
   "metadata": {},
   "source": [
    "**Výhody**: \n",
    "    \n",
    "+ jednoduchý a interpretovatelný algoritmus\n",
    "+ nepotřebuje žádné parametrické předpoklady \n",
    "+ je robustní z pohledu před-zpracování dat \n",
    "+ rychlý \n",
    "\n",
    "**Nevýhody**:\n",
    "- k větvení dochází v každém kroku iterace, nelze zaručit optimální řešení => přetrénování \n",
    "- nestabilita (mala varibilita dat  -> kompletně jiné větvení) \n",
    "- předpojatost / zkreslení (bias) jestliže máme větší počet vzorků / referncí jedné třídy (nerovnováha dat) "
   ]
  },
  {
   "cell_type": "markdown",
   "id": "46130300",
   "metadata": {},
   "source": []
  },
  {
   "cell_type": "markdown",
   "id": "86665d34",
   "metadata": {},
   "source": [
    "### Měření míry úspěchu\n",
    "\n",
    "Specificita (*precision*) obecně říká, kolik vzorků označených za pozitivních je opravdu pozitivních.\n",
    "\n",
    "$$ precision = \\frac{TP}{TP+FP} $$\n",
    "\n",
    "TP označuje počet správně označených pozitivních vzorků (*true positives*)\n",
    "FP označuje počet falešně pozitivních vzorků (*false negatives*)\n",
    "\n",
    "Senzitivita (*recall*) testu obecně vyjadřuje kolik pozitivních vzorků bylo podchyceno klasifikátorem (klasifikováno jako pozitivní).\n",
    "\n",
    "\n",
    "$$ recall = \\frac{TP}{TP+FN} $$\n",
    "\n",
    "FN je počet falešně negativních vzorků (*false negatives*)\n",
    "\n",
    "\n",
    "Zda je pro nás důležitější *precision* nebo *recall*, záleží na konkrétní úloze. Někdy vadí více falešně pozitivní případy (např. příliš mnoho relevantních mailů označených za spam), jindy bude více vadit nezachycený pozitivní případ (např. neodhalený výskyt nemoci).\n",
    "\n",
    "Další často používanou metrikou je tzv. **F1 skóre**. Kombinuje *precision* a *recall*, a to tak, že obě tyto metriky mají stejnou váhu (přizpívají stejnou měrou k výsledku). Čím větší hodnota, tím lepší výsledek. Maximální hodnota je jedna, minimální 0.\n",
    "\n",
    "$$ F1 = 2 \\frac{precision \\cdot recall}{precision + recall}$$\n",
    "\n",
    "\n",
    "\n",
    "S použitím F1-skóre balancujeme *precision* a *recall* (harmonický průměr). Tuto metriku vybereme pro hodnocení úspěšnosti našeho modelu pro tento problem!  \n"
   ]
  },
  {
   "cell_type": "code",
   "execution_count": null,
   "id": "b4c22c4b",
   "metadata": {},
   "outputs": [],
   "source": [
    "# rozdeleni data setu na trenovaci, validacni a testovaci\n",
    "\n",
    "ds = mpimg.imread('rozdeleni_trenovani_testovani.png')\n",
    "plt.figure(figsize=(7, 5), dpi=100)\n",
    "plt.axis('off')\n",
    "plt.imshow(ds)"
   ]
  },
  {
   "cell_type": "code",
   "execution_count": null,
   "id": "fe0b7576",
   "metadata": {},
   "outputs": [],
   "source": [
    "# krizova validace\n",
    "\n",
    "ds = mpimg.imread('krizova_validace.png')\n",
    "plt.figure(figsize=(10, 10), dpi=100)\n",
    "plt.axis('off')\n",
    "plt.imshow(ds)"
   ]
  },
  {
   "cell_type": "code",
   "execution_count": null,
   "id": "f5ee619d",
   "metadata": {},
   "outputs": [],
   "source": []
  },
  {
   "cell_type": "markdown",
   "id": "bf83e2fb",
   "metadata": {},
   "source": [
    "### Řešený problem pomocí rozhodovacího stromu: \n",
    "Klasifikace druhů kosatců na základě jejich vlastností (délka a šířka okvětních a kališních lístků).  "
   ]
  },
  {
   "cell_type": "markdown",
   "id": "68a91de8",
   "metadata": {},
   "source": [
    "### Knihovny pro praci\n",
    "\n",
    "    * NumPy \n",
    "    * Pandas \n",
    "    * Matplotlib / Seaborn \n",
    "    * Scikit-learn "
   ]
  },
  {
   "cell_type": "code",
   "execution_count": null,
   "id": "0096f16e",
   "metadata": {},
   "outputs": [],
   "source": [
    "# Knihovny\n",
    "\n",
    "import pandas as pd\n",
    "import numpy as np\n",
    "import matplotlib.pyplot as plt\n",
    "# Jupyter notebook vizualizace\n",
    "%matplotlib inline\n",
    "import seaborn as sns\n",
    "\n",
    "# kodovani \n",
    "from sklearn.preprocessing import LabelEncoder\n",
    "# rozdeleni na trenovaci a testovaci dataset \n",
    "from sklearn.model_selection import train_test_split\n",
    "# trida klasifikatoru rozhodovaci strom \n",
    "from sklearn.tree import DecisionTreeClassifier\n",
    "# validacni indikatory a procedury \n",
    "from sklearn import metrics\n",
    "from sklearn.metrics import f1_score\n",
    "from sklearn.model_selection import cross_val_score\n",
    "from sklearn.model_selection import cross_validate\n",
    "from sklearn.metrics import classification_report, confusion_matrix\n",
    "# vizualizace stromu \n",
    "from sklearn.tree import plot_tree\n",
    "from matplotlib.pyplot import figure\n",
    "import matplotlib.image as mpimg"
   ]
  },
  {
   "cell_type": "markdown",
   "id": "f7b9638c",
   "metadata": {},
   "source": [
    "### 1. Ziskani (nacteni) vstupnich dat"
   ]
  },
  {
   "cell_type": "code",
   "execution_count": null,
   "id": "daf6fb0a",
   "metadata": {},
   "outputs": [],
   "source": [
    "# vstupni data\n",
    "df = sns.load_dataset('iris') \n",
    "df.head()"
   ]
  },
  {
   "cell_type": "markdown",
   "id": "6f1d4ea7",
   "metadata": {},
   "source": [
    "### 2. Explorace vstupnich dat "
   ]
  },
  {
   "cell_type": "code",
   "execution_count": null,
   "id": "60cc57fb",
   "metadata": {},
   "outputs": [],
   "source": [
    "# zakladni info \n",
    "df.info()"
   ]
  },
  {
   "cell_type": "code",
   "execution_count": null,
   "id": "5ff5374e",
   "metadata": {
    "scrolled": true
   },
   "outputs": [],
   "source": [
    "# vizualizace kvetu\n",
    "\n",
    "img = mpimg.imread('iris-dataset.png')\n",
    "plt.figure(figsize=(15, 10), dpi=80)\n",
    "plt.imshow(img)\n",
    "# okvětní lístek a kališní lístek "
   ]
  },
  {
   "cell_type": "code",
   "execution_count": null,
   "id": "98bdb2bf",
   "metadata": {},
   "outputs": [],
   "source": [
    "# dimenzionalita vstupni matice \n",
    "# df ... promena typu Pandas DataFrame\n",
    "# shape ... metoda vraci dimenzionalitu vstupnich dat \n",
    "pass "
   ]
  },
  {
   "cell_type": "code",
   "execution_count": null,
   "id": "75074aa2",
   "metadata": {},
   "outputs": [],
   "source": [
    "# chybejici atributy? \n",
    "# isnull() ... metoda vrati T/F \n",
    "# any() ... vyhodnoti stav pro kazdy atribut (feature) \n",
    "pass "
   ]
  },
  {
   "cell_type": "code",
   "execution_count": null,
   "id": "d742354d",
   "metadata": {},
   "outputs": [],
   "source": [
    "# vizualizace atributu - pruzkumova analyza \n",
    "# Seaborn pariplot ... vykresli kombinace vsech priznaku\n",
    "# hue ... zmena barvy dle kodu atributu \n",
    "\n",
    "sns.pairplot(data=df, hue = 'species')"
   ]
  },
  {
   "cell_type": "code",
   "execution_count": null,
   "id": "41e57a1c",
   "metadata": {},
   "outputs": [],
   "source": [
    "# Jak slozita je uloha klasifikace? \n",
    "# Existuje v datech linearni separabilita? \n",
    "# Kde je nejvetsi problem? \n",
    "# Jake priznaky (vlastnosti kvetu) povazujete za dulezite pro klasifikaci? "
   ]
  },
  {
   "cell_type": "code",
   "execution_count": null,
   "id": "cfaafb24",
   "metadata": {},
   "outputs": [],
   "source": [
    "# existuji korelace (linerani zavislosti) v matici priznaku?\n",
    "# sns.heatmap(df.corr(), cmap=\"Greens\")"
   ]
  },
  {
   "cell_type": "markdown",
   "id": "0381c62d",
   "metadata": {},
   "source": [
    "## 3. Priprava dat\n",
    "\n",
    "X .. priznaky (vstupni meren veliciny)\n",
    "\n",
    "y .. priklady ocekavaneho vystupu (refernce)\n",
    "\n",
    "X_train & y_train .. subset pro trenovani modelu \n",
    "\n",
    "X_test & y_test .. subset pro testovani modelu \n",
    "\n",
    "X_val & y_val .. subset pro validaci modelu v procesu ladeni hyperparametru vytvorime v pripade, ze mame dostatecne mnozstvi referenci. \n"
   ]
  },
  {
   "cell_type": "code",
   "execution_count": null,
   "id": "017a85ab",
   "metadata": {},
   "outputs": [],
   "source": [
    "# jak jsou pojmenovany sloupce v datove tabulce? \n",
    "df.columns"
   ]
  },
  {
   "cell_type": "code",
   "execution_count": null,
   "id": "54668810",
   "metadata": {},
   "outputs": [],
   "source": [
    "# Jake jsou nase klasifikacni tridy? \n",
    "df['species'].unique()"
   ]
  },
  {
   "cell_type": "code",
   "execution_count": null,
   "id": "b051ba52",
   "metadata": {},
   "outputs": [],
   "source": [
    "# Vstupni data zpravidla rozdelime do dvou promennych: \n",
    "# X ... priznaky \n",
    "# y ... reference s cilovou hodnotou "
   ]
  },
  {
   "cell_type": "code",
   "execution_count": null,
   "id": "2354a5f7",
   "metadata": {},
   "outputs": [],
   "source": [
    "reference = df['species']\n",
    "df1 = df.copy()\n",
    "df1 = df1.drop('species', axis = 1)\n",
    "X = df1"
   ]
  },
  {
   "cell_type": "code",
   "execution_count": null,
   "id": "745e3924",
   "metadata": {},
   "outputs": [],
   "source": [
    "X.head()"
   ]
  },
  {
   "cell_type": "code",
   "execution_count": null,
   "id": "292b429d",
   "metadata": {},
   "outputs": [],
   "source": [
    "reference.head()"
   ]
  },
  {
   "cell_type": "code",
   "execution_count": null,
   "id": "7b2726f7",
   "metadata": {},
   "outputs": [],
   "source": [
    "# stringy trid prevedem do ciselnych hodnot \n",
    "le = LabelEncoder()\n",
    "cis_kody = le.fit_transform(reference) \n",
    "cis_kody"
   ]
  },
  {
   "cell_type": "code",
   "execution_count": null,
   "id": "a13ee4aa",
   "metadata": {},
   "outputs": [],
   "source": [
    "# kodovani \n",
    "spec_kod  = pd.concat([df['species'], pd.DataFrame(cis_kody)], axis=1)\n",
    "\n",
    "for col in spec_kod:\n",
    "    print(spec_kod[col].unique())"
   ]
  },
  {
   "cell_type": "code",
   "execution_count": null,
   "id": "c6c612bd",
   "metadata": {},
   "outputs": [],
   "source": [
    "# kodovane reference \n",
    "y = cis_kody\n",
    "y"
   ]
  },
  {
   "cell_type": "markdown",
   "id": "546af7c3",
   "metadata": {},
   "source": [
    "### 3.1 Rozdeleni na trenovaci a testovaci dataset "
   ]
  },
  {
   "cell_type": "code",
   "execution_count": null,
   "id": "a6c1c032",
   "metadata": {},
   "outputs": [],
   "source": [
    "# 3.1 A nahodne rozdeleni metodou train_test_split() z sklearn \n",
    "# https://scikit-learn.org/stable/modules/generated/sklearn.model_selection.train_test_split.html \n",
    "# overte parametrizaci "
   ]
  },
  {
   "cell_type": "code",
   "execution_count": null,
   "id": "e276cf2d",
   "metadata": {},
   "outputs": [],
   "source": [
    "X_train, X_test, y_train, y_test = train_test_split(X , y, test_size = 0.4, random_state = 42)\n",
    "\n",
    "print(\"Trenovaci mnozina \", X_train.shape)\n",
    "print(\"Testovaci mnozina \", X_test.shape)"
   ]
  },
  {
   "cell_type": "markdown",
   "id": "5447e1f0",
   "metadata": {},
   "source": [
    "### 4. Modelovani a testovani stromu"
   ]
  },
  {
   "cell_type": "code",
   "execution_count": null,
   "id": "b7374036",
   "metadata": {},
   "outputs": [],
   "source": [
    "# vytvor instanci tridy pro rozhodovaci strom \n",
    "# a nastav rucne hyperparametry: max. depth, min. samples, splitter\n",
    "strom = DecisionTreeClassifier(max_depth=3, min_samples_split=2, \n",
    "                               splitter='random', random_state = 42) "
   ]
  },
  {
   "cell_type": "code",
   "execution_count": null,
   "id": "1b47d6c5",
   "metadata": {},
   "outputs": [],
   "source": [
    "strom"
   ]
  },
  {
   "cell_type": "markdown",
   "id": "01aa4c3e",
   "metadata": {},
   "source": [
    "### 4.1. Tvorba modelu"
   ]
  },
  {
   "cell_type": "code",
   "execution_count": null,
   "id": "d9fae33a",
   "metadata": {},
   "outputs": [],
   "source": [
    "# prvni \"fitovani\" modelu - nalezeni parametru modelu \n",
    "\n",
    "strom.fit(X_train, y_train)"
   ]
  },
  {
   "cell_type": "markdown",
   "id": "d9980680",
   "metadata": {},
   "source": [
    "### 4.2. Validace modelu"
   ]
  },
  {
   "cell_type": "code",
   "execution_count": null,
   "id": "1e2c4f64",
   "metadata": {},
   "outputs": [],
   "source": [
    "# predikce \n",
    "strom.predict(X_test)"
   ]
  },
  {
   "cell_type": "code",
   "execution_count": null,
   "id": "bac47059",
   "metadata": {},
   "outputs": [],
   "source": [
    "# krizova validace stromu - presnost modelu v procesu trenovani \n",
    "# cross_validate() cv=5 -> 5x opakovane \n",
    "cv_strom = cross_validate(strom, X_train,y_train, cv=5, scoring='f1_macro', return_estimator=True)\n",
    "print('Krizova validace!')"
   ]
  },
  {
   "cell_type": "code",
   "execution_count": null,
   "id": "09fb5ac5",
   "metadata": {},
   "outputs": [],
   "source": [
    "cv_strom['test_score']"
   ]
  },
  {
   "cell_type": "code",
   "execution_count": null,
   "id": "da97c31a",
   "metadata": {},
   "outputs": [],
   "source": [
    "print('Prumer vazeneho F1-skore: {:.3f} a std {:.3f}'.format(\n",
    "        cv_strom['test_score'].mean(),\n",
    "        cv_strom['test_score'].std())\n",
    "     )"
   ]
  },
  {
   "cell_type": "code",
   "execution_count": null,
   "id": "e8504173",
   "metadata": {},
   "outputs": [],
   "source": [
    "y_test_pred = strom.predict(X_test)\n",
    "round(f1_score(y_test, y_test_pred, average='macro'), 3)"
   ]
  },
  {
   "cell_type": "code",
   "execution_count": null,
   "id": "d64354c6",
   "metadata": {},
   "outputs": [],
   "source": [
    "# konfuzni matice \n",
    "cm = confusion_matrix(y_test, y_test_pred) \n",
    "plt.figure(figsize=(7,7))\n",
    "sns.heatmap(data=cm,linewidths=.5, annot=True, square=True, cmap='Blues')\n",
    "plt.ylabel('Reference')\n",
    "plt.xlabel('Predikovana trida')\n",
    "all_sample_title = 'F1-score: {0}'.format(round(f1_score(y_test, y_test_pred, average='macro'), 3))\n",
    "plt.title(all_sample_title, size = 15)"
   ]
  },
  {
   "cell_type": "code",
   "execution_count": null,
   "id": "6e6e3872",
   "metadata": {},
   "outputs": [],
   "source": [
    "# Je vysledek dostatecny? "
   ]
  },
  {
   "cell_type": "code",
   "execution_count": null,
   "id": "3ee176a7",
   "metadata": {},
   "outputs": [],
   "source": [
    "# Jiny algoritmus klasifikace? \n",
    "# David Wolpert (1996) - \"No Free Lunch Therem\" - if you make absolutely no assumption about the data, \n",
    "# there is no reason to prefer one model over any other!"
   ]
  },
  {
   "cell_type": "code",
   "execution_count": null,
   "id": "67109bc1",
   "metadata": {},
   "outputs": [],
   "source": []
  },
  {
   "cell_type": "code",
   "execution_count": null,
   "id": "d8818cfd",
   "metadata": {},
   "outputs": [],
   "source": [
    "# Visualizace stromu \n",
    "figure(figsize=(9, 6), dpi=80)\n",
    "rozhodovaci_strom = plot_tree(decision_tree=strom, feature_names = df1.columns,\n",
    "class_names =[\"setosa\", \"vercicolor\", \"verginica\"] , filled=True ,  precision=2, rounded=True)"
   ]
  },
  {
   "cell_type": "code",
   "execution_count": null,
   "id": "8270b833",
   "metadata": {},
   "outputs": [],
   "source": [
    "# Ktere priznaky jsou dulezite pro klasifikaci? "
   ]
  },
  {
   "cell_type": "code",
   "execution_count": null,
   "id": "92c6b4f4",
   "metadata": {},
   "outputs": [],
   "source": []
  },
  {
   "cell_type": "code",
   "execution_count": null,
   "id": "8f03e02f",
   "metadata": {},
   "outputs": [],
   "source": [
    "# Ukol 1: oznacte chybe klasifikovane prvky v grafu priznakoveho prostoru\n",
    "# viz. sns.pairplot(data=df, hue = 'species')"
   ]
  },
  {
   "cell_type": "code",
   "execution_count": null,
   "id": "15038b3e",
   "metadata": {},
   "outputs": [],
   "source": [
    "# sns.scatterplot(data=viz_chyby, x=\"petal_length\", y=\"petal_width\", hue=\"species\", style=\"chyby\") "
   ]
  },
  {
   "cell_type": "code",
   "execution_count": null,
   "id": "17a6e03c",
   "metadata": {},
   "outputs": [],
   "source": []
  },
  {
   "cell_type": "code",
   "execution_count": null,
   "id": "dd3cee4e",
   "metadata": {},
   "outputs": [],
   "source": [
    "# Ukol 2: vyzkousejte stratifikovane rozdeleni na trenovaci a testovaci dataset\n",
    "\n",
    "from sklearn.model_selection import StratifiedKFold\n",
    "skf = StratifiedKFold(n_splits=5, shuffle=True)\n",
    "\n",
    "skf.get_n_splits(X, y)\n",
    "for train_index, test_index in skf.split(X, y):\n",
    "    print('.')\n",
    "    # print(\"TRAIN:\", train_index)\n",
    "    # print(\"TEST:\", test_index)\n",
    "    # X_train = X.iloc[train_index]\n"
   ]
  },
  {
   "cell_type": "code",
   "execution_count": null,
   "id": "db0b19ba",
   "metadata": {},
   "outputs": [],
   "source": []
  }
 ],
 "metadata": {
  "kernelspec": {
   "display_name": "Python 3 (ipykernel)",
   "language": "python",
   "name": "python3"
  },
  "language_info": {
   "codemirror_mode": {
    "name": "ipython",
    "version": 3
   },
   "file_extension": ".py",
   "mimetype": "text/x-python",
   "name": "python",
   "nbconvert_exporter": "python",
   "pygments_lexer": "ipython3",
   "version": "3.9.10"
  }
 },
 "nbformat": 4,
 "nbformat_minor": 5
}
