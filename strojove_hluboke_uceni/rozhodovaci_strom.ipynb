{
 "cells": [
  {
   "cell_type": "markdown",
   "id": "ed1f5e77",
   "metadata": {},
   "source": [
    "# ___\n",
    "# [ Geoinformatika ]\n",
    "\n",
    "## Strojové učení\n",
    "\n",
    "\n",
    "**Katedra aplikované geoinformatiky a kartografie**, Přírodovědecká fakulta, Univerzita Karlova\n",
    "Albertov 6, 128 43 Praha 2\n",
    "\n",
    "*Lukáš Brodský lukas.brodsky@natur.cuni.cz*"
   ]
  },
  {
   "cell_type": "markdown",
   "id": "b68473a1",
   "metadata": {},
   "source": [
    "### Rozhodovací strom *(Decision tree)* v Pythonu \n"
   ]
  },
  {
   "cell_type": "markdown",
   "id": "f1ee896f",
   "metadata": {},
   "source": [
    "Tento Jupyter notbooku demonstruje strojové učení s využitím algoritmu rozhodovací strom z knihovny Scikit learn (*https://scikit-learn.org*). \n"
   ]
  },
  {
   "cell_type": "markdown",
   "id": "46130300",
   "metadata": {},
   "source": [
    "### Řešený problem\n",
    "Klasifikace druhů kosatců na základě jejich vlastností (délka a šířka okvětních a kališních lístků).  "
   ]
  },
  {
   "cell_type": "markdown",
   "id": "86665d34",
   "metadata": {},
   "source": [
    "### Měření míry úspěchu\n",
    "\n",
    "Strojové učení používá podobné metriky jako DPZ. Pojmenování se trochu liší. \n",
    "\n",
    "Specificita (*precision*) obecně říká, kolik vzorků označených za pozitivních je opravdu pozitivních.\n",
    "\n",
    "$$ precision = \\frac{TP}{TP+FP} $$\n",
    "\n",
    "TP označuje počet správně označených pozitivních vzorků (*true positives*)\n",
    "FP označuje počet falešně pozitivních vzorků (*false negatives*)\n",
    "\n",
    "Senzitivita (*recall*) testu obecně vyjadřuje kolik pozitivních vzorků bylo podchyceno klasifikátorem (klasifikováno jako pozitivní).\n",
    "\n",
    "\n",
    "$$ recall = \\frac{TP}{TP+FN} $$\n",
    "\n",
    "FN je počet falešně negativních vzorků (*false negatives*)\n",
    "\n",
    "\n",
    "Zda je pro nás důležitější *precision* nebo *recall*, záleží na konkrétní úloze. Někdy vadí více falešně pozitivní případy (např. příliš mnoho relevantních mailů označených za spam), jindy bude více vadit nezachycený pozitivní případ (např. neodhalený výskyt nemoci).\n",
    "\n",
    "Další často používanou metrikou je tzv. **F1 skóre**. Kombinuje *precision* a *recall*, a to tak, že obě tyto metriky mají stejnou váhu (přizpívají stejnou měrou k výsledku). Čím větší hodnota, tím lepší výsledek. Maximální hodnota je jedna, minimální 0.\n",
    "\n",
    "$$ F1 = 2 \\frac{precision \\cdot recall}{precision + recall}$$\n",
    "\n",
    "\n",
    "\n",
    "S použitím F1-skóre balancujeme *precision* a *recall* (harmonický průměr). Tuto metriku vybereme pro hodnocení úspěšnosti našeho modelu pro tento problem!  \n"
   ]
  },
  {
   "cell_type": "code",
   "execution_count": null,
   "id": "0096f16e",
   "metadata": {},
   "outputs": [],
   "source": [
    "# Knihovny\n",
    "\n",
    "import pandas as pd\n",
    "import numpy as np\n",
    "import matplotlib.pyplot as plt\n",
    "# Jupyter notebook vizualizace\n",
    "%matplotlib inline\n",
    "import seaborn as sns\n",
    "\n",
    "# kodovani \n",
    "from sklearn.preprocessing import LabelEncoder\n",
    "# rozdeleni na trenovaci a testovaci dataset \n",
    "from sklearn.model_selection import train_test_split\n",
    "# trida klasifikatoru rozhodovaci strom \n",
    "from sklearn.tree import DecisionTreeClassifier\n",
    "# validacni indikatory a procedury \n",
    "from sklearn import metrics\n",
    "from sklearn.metrics import f1_score\n",
    "from sklearn.model_selection import cross_val_score\n",
    "from sklearn.model_selection import cross_validate\n",
    "from sklearn.metrics import classification_report, confusion_matrix\n",
    "# vizualizace stromu \n",
    "from sklearn.tree import plot_tree\n",
    "from matplotlib.pyplot import figure\n",
    "import matplotlib.image as mpimg"
   ]
  },
  {
   "cell_type": "markdown",
   "id": "f7b9638c",
   "metadata": {},
   "source": [
    "### Nacteni vstupnich dat"
   ]
  },
  {
   "cell_type": "code",
   "execution_count": null,
   "id": "daf6fb0a",
   "metadata": {},
   "outputs": [],
   "source": [
    "# vstupni data\n",
    "df = sns.load_dataset('iris') \n",
    "df.head()"
   ]
  },
  {
   "cell_type": "markdown",
   "id": "6f1d4ea7",
   "metadata": {},
   "source": [
    "### Explorace vstupnich dat "
   ]
  },
  {
   "cell_type": "code",
   "execution_count": null,
   "id": "60cc57fb",
   "metadata": {},
   "outputs": [],
   "source": [
    "# zakladni info \n",
    "df.info()"
   ]
  },
  {
   "cell_type": "code",
   "execution_count": null,
   "id": "5ff5374e",
   "metadata": {},
   "outputs": [],
   "source": [
    "# vizualizace kvetu\n",
    "\n",
    "img = 'iris-dataset.png'\n",
    "img = mpimg.imread('iris-dataset.png')\n",
    "plt.figure(figsize=(15, 10), dpi=80)\n",
    "plt.imshow(img)\n",
    "# okvětní lístek a kališní lístek "
   ]
  },
  {
   "cell_type": "code",
   "execution_count": null,
   "id": "98bdb2bf",
   "metadata": {},
   "outputs": [],
   "source": [
    "# dimenzionalita matice \n",
    "df.shape"
   ]
  },
  {
   "cell_type": "code",
   "execution_count": null,
   "id": "75074aa2",
   "metadata": {},
   "outputs": [],
   "source": [
    "# chybejici atributy? \n",
    "df.isnull().any()"
   ]
  },
  {
   "cell_type": "code",
   "execution_count": null,
   "id": "d742354d",
   "metadata": {},
   "outputs": [],
   "source": [
    "# vizualizace atributu - pruzkumova analyza \n",
    "sns.pairplot(data=df, hue = 'species')"
   ]
  },
  {
   "cell_type": "code",
   "execution_count": null,
   "id": "cfaafb24",
   "metadata": {},
   "outputs": [],
   "source": [
    "# existuji korelace (linerani zavislosti) v matici priznaku?\n",
    "# sns.heatmap(df.corr(), cmap=\"Greens\")"
   ]
  },
  {
   "cell_type": "markdown",
   "id": "0381c62d",
   "metadata": {},
   "source": [
    "## Priprava dat"
   ]
  },
  {
   "cell_type": "code",
   "execution_count": null,
   "id": "017a85ab",
   "metadata": {},
   "outputs": [],
   "source": [
    "df.columns"
   ]
  },
  {
   "cell_type": "code",
   "execution_count": null,
   "id": "54668810",
   "metadata": {},
   "outputs": [],
   "source": [
    "# klasifikacni tridy \n",
    "df['species']"
   ]
  },
  {
   "cell_type": "code",
   "execution_count": null,
   "id": "b051ba52",
   "metadata": {},
   "outputs": [],
   "source": [
    "reference = df['species']\n",
    "df1 = df.copy()\n",
    "df1 = df1.drop('species', axis = 1)"
   ]
  },
  {
   "cell_type": "code",
   "execution_count": null,
   "id": "024cfb5a",
   "metadata": {},
   "outputs": [],
   "source": [
    "# Defining the attributes \n",
    "X = df1"
   ]
  },
  {
   "cell_type": "code",
   "execution_count": null,
   "id": "745e3924",
   "metadata": {},
   "outputs": [],
   "source": [
    "X"
   ]
  },
  {
   "cell_type": "code",
   "execution_count": null,
   "id": "292b429d",
   "metadata": {},
   "outputs": [],
   "source": [
    "# reference"
   ]
  },
  {
   "cell_type": "code",
   "execution_count": null,
   "id": "7b2726f7",
   "metadata": {},
   "outputs": [],
   "source": [
    "# kodovani trid \n",
    "le = LabelEncoder()\n",
    "cis_kody = le.fit_transform(reference) \n",
    "cis_kody"
   ]
  },
  {
   "cell_type": "code",
   "execution_count": null,
   "id": "a13ee4aa",
   "metadata": {},
   "outputs": [],
   "source": [
    "# kodovani \n",
    "spec_kod  = pd.concat([df['species'], pd.DataFrame(cis_kody)], axis=1)\n",
    "\n",
    "for col in spec_kod:\n",
    "    print(spec_kod[col].unique())"
   ]
  },
  {
   "cell_type": "code",
   "execution_count": null,
   "id": "c6c612bd",
   "metadata": {},
   "outputs": [],
   "source": [
    "y = cis_kody"
   ]
  },
  {
   "cell_type": "markdown",
   "id": "546af7c3",
   "metadata": {},
   "source": [
    "### Rozdeleni na trenovaci a testovaci dataset "
   ]
  },
  {
   "cell_type": "code",
   "execution_count": null,
   "id": "a6c1c032",
   "metadata": {},
   "outputs": [],
   "source": [
    "# nahodne rozdeleni \n",
    "X_train, X_test, y_train, y_test = train_test_split(X , y, test_size = 0.9, random_state = 42)\n",
    "\n",
    "print(\"Trenovaci mnozina \", X_train.shape)\n",
    "print(\"Testovaci mnozina \", X_test.shape)"
   ]
  },
  {
   "cell_type": "markdown",
   "id": "5447e1f0",
   "metadata": {},
   "source": [
    "### Modelovani a testovani stromu"
   ]
  },
  {
   "cell_type": "code",
   "execution_count": null,
   "id": "b7374036",
   "metadata": {},
   "outputs": [],
   "source": [
    "# vytvor instanci tridy pro rozhodovaci strom \n",
    "# a nastav rucne hyperparametry: max. depth, min. samples, splitter\n",
    "strom = DecisionTreeClassifier(max_depth=3, min_samples_split=2, splitter='random', random_state = 42) "
   ]
  },
  {
   "cell_type": "code",
   "execution_count": null,
   "id": "d9fae33a",
   "metadata": {},
   "outputs": [],
   "source": [
    "### prvni \"fitovani\" modelu\n",
    "strom.fit(X_train, y_train)"
   ]
  },
  {
   "cell_type": "code",
   "execution_count": null,
   "id": "1e2c4f64",
   "metadata": {},
   "outputs": [],
   "source": [
    "# prvni validace na testovacim datasetu\n",
    "round(f1_score(y_test, strom.predict(X_test), average='macro'), 3)"
   ]
  },
  {
   "cell_type": "code",
   "execution_count": null,
   "id": "bac47059",
   "metadata": {},
   "outputs": [],
   "source": [
    "# krizova validace stromu \n",
    "cv_strom = cross_validate(strom, X_train,y_train, cv=5, scoring='f1_macro', return_estimator=True)\n",
    "print('Krizova validace!')"
   ]
  },
  {
   "cell_type": "code",
   "execution_count": null,
   "id": "09fb5ac5",
   "metadata": {},
   "outputs": [],
   "source": [
    "# cv_strom['test_score']"
   ]
  },
  {
   "cell_type": "code",
   "execution_count": null,
   "id": "da97c31a",
   "metadata": {},
   "outputs": [],
   "source": [
    "print('Prumer vazeneho F1-skore: {:.3f} a std {:.3f}'.format(\n",
    "        cv_strom['test_score'].mean(),\n",
    "        cv_strom['test_score'].std())\n",
    "     )"
   ]
  },
  {
   "cell_type": "code",
   "execution_count": null,
   "id": "e8504173",
   "metadata": {},
   "outputs": [],
   "source": [
    "y_pred = strom.predict(X_test)"
   ]
  },
  {
   "cell_type": "code",
   "execution_count": null,
   "id": "d64354c6",
   "metadata": {},
   "outputs": [],
   "source": [
    "# konfuzni matice \n",
    "cm = confusion_matrix(y_test, y_pred) \n",
    "plt.figure(figsize=(7,7))\n",
    "sns.heatmap(data=cm,linewidths=.5, annot=True, square=True, cmap='Blues')\n",
    "plt.ylabel('Reference')\n",
    "plt.xlabel('Predikovana trida')\n",
    "all_sample_title = 'F1-score: {0}'.format(round(f1_score(y_test, y_pred, average='macro'), 3))\n",
    "plt.title(all_sample_title, size = 15)"
   ]
  },
  {
   "cell_type": "code",
   "execution_count": null,
   "id": "d8818cfd",
   "metadata": {},
   "outputs": [],
   "source": [
    "# Visualizace stromu \n",
    "figure(figsize=(9, 6), dpi=80)\n",
    "rozhodovaci_strom = plot_tree(decision_tree=strom, feature_names = df1.columns,\n",
    "class_names =[\"setosa\", \"vercicolor\", \"verginica\"] , filled=True ,  precision=2, rounded=True)"
   ]
  },
  {
   "cell_type": "code",
   "execution_count": null,
   "id": "8270b833",
   "metadata": {},
   "outputs": [],
   "source": []
  },
  {
   "cell_type": "code",
   "execution_count": null,
   "id": "dd3cee4e",
   "metadata": {},
   "outputs": [],
   "source": [
    "# stratifikace\n",
    "# from sklearn.model_selection import StratifiedKFold\n",
    "# skf = StratifiedKFold(n_splits=5, shuffle=True)\n",
    "# skf.get_n_splits(X, y)\n",
    "# for train_index, test_index in skf.split(X, y):\n",
    "    # print(\"TRAIN:\", train_index)\n",
    "    # print(\"TEST:\", test_index)\n"
   ]
  },
  {
   "cell_type": "code",
   "execution_count": null,
   "id": "db0b19ba",
   "metadata": {},
   "outputs": [],
   "source": [
    "# Jiny algoritmus klasifikace? \n",
    "# David Wolpert (1996) - \"No Free Lunch Therem\" - if you make absolutely no assumption about the data, \n",
    "# there is no reason to prefer one model over any other!"
   ]
  },
  {
   "cell_type": "code",
   "execution_count": null,
   "id": "52c2f09b",
   "metadata": {},
   "outputs": [],
   "source": []
  },
  {
   "cell_type": "code",
   "execution_count": null,
   "id": "853be6e7",
   "metadata": {},
   "outputs": [],
   "source": [
    "# df_vv = df[df['species'] != 'setosa']"
   ]
  },
  {
   "cell_type": "code",
   "execution_count": null,
   "id": "e69b2fdd",
   "metadata": {},
   "outputs": [],
   "source": [
    "# vizualizace atributu - pruzkumova analyza \n",
    "# sns.pairplot(data=df_vv, hue = 'species')"
   ]
  },
  {
   "cell_type": "code",
   "execution_count": null,
   "id": "c950e3e2",
   "metadata": {},
   "outputs": [],
   "source": [
    "# sns.set(rc = {'figure.figsize':(10,7)})\n",
    "# sns.scatterplot(data=df_vv, x=\"petal_length\", y=\"petal_width\", hue=\"species\")"
   ]
  },
  {
   "cell_type": "code",
   "execution_count": null,
   "id": "16ed312e",
   "metadata": {},
   "outputs": [],
   "source": []
  },
  {
   "cell_type": "code",
   "execution_count": null,
   "id": "cce1ca69",
   "metadata": {},
   "outputs": [],
   "source": [
    "# chyby = (y_test - y_pred) != 0"
   ]
  },
  {
   "cell_type": "code",
   "execution_count": null,
   "id": "f5cb426e",
   "metadata": {},
   "outputs": [],
   "source": [
    "# viz_chyby = pd.DataFrame.copy(X_test)\n",
    "# viz_chyby['species'] = y_test\n",
    "# viz_chyby['chyby'] = chyby"
   ]
  },
  {
   "cell_type": "code",
   "execution_count": null,
   "id": "840eb62c",
   "metadata": {},
   "outputs": [],
   "source": [
    "# sns.scatterplot(data=viz_chyby, x=\"petal_length\", y=\"petal_width\", hue=\"species\", style=\"chyby\") "
   ]
  }
 ],
 "metadata": {
  "kernelspec": {
   "display_name": "Python 3 (ipykernel)",
   "language": "python",
   "name": "python3"
  },
  "language_info": {
   "codemirror_mode": {
    "name": "ipython",
    "version": 3
   },
   "file_extension": ".py",
   "mimetype": "text/x-python",
   "name": "python",
   "nbconvert_exporter": "python",
   "pygments_lexer": "ipython3",
   "version": "3.9.7"
  }
 },
 "nbformat": 4,
 "nbformat_minor": 5
}
