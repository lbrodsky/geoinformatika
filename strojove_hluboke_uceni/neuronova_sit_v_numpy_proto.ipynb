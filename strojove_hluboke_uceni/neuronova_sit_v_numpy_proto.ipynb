{
 "cells": [
  {
   "cell_type": "markdown",
   "id": "05663c5f",
   "metadata": {},
   "source": [
    "# ___\n",
    "# [ Geoinformatika ]\n",
    "\n",
    "## Strojové a hluboké učení\n",
    "\n",
    "\n",
    "**Katedra aplikované geoinformatiky a kartografie**, Přírodovědecká fakulta, Univerzita Karlova\n",
    "Albertov 6, 128 43 Praha 2\n",
    "\n",
    "*Lukáš Brodský lukas.brodsky@natur.cuni.cz*"
   ]
  },
  {
   "cell_type": "markdown",
   "id": "f09d39b8",
   "metadata": {},
   "source": [
    "### Neuronová síť v Numerickém Pythonu \n",
    "bez dedikovaných knihoven (PyTorch, TensorFlow, Keras) "
   ]
  },
  {
   "cell_type": "code",
   "execution_count": 18,
   "id": "4edf9f03",
   "metadata": {},
   "outputs": [
    {
     "name": "stdout",
     "output_type": "stream",
     "text": [
      "Numpy verze: 1.21.4\n",
      "Pandas verze: 1.3.4\n"
     ]
    }
   ],
   "source": [
    "# Knihovny pro praci\n",
    "import os\n",
    "\n",
    "import numpy as np\n",
    "print('Numpy verze: {}'.format(np.__version__))\n",
    "\n",
    "import pandas as pd \n",
    "print('Pandas verze: {}'.format(pd.__version__))"
   ]
  },
  {
   "cell_type": "code",
   "execution_count": 15,
   "id": "0a4477bd",
   "metadata": {},
   "outputs": [],
   "source": [
    "# Matice\n",
    "# 4 * 2 \n",
    "a = np.array([[1, 0], [0, 1], [0, 2], [0, 3]])\n",
    "# 2 * 3 \n",
    "b = np.array([[4, 1, 3], [2, 2, 3]])"
   ]
  },
  {
   "cell_type": "code",
   "execution_count": 16,
   "id": "ca408df3",
   "metadata": {},
   "outputs": [
    {
     "name": "stdout",
     "output_type": "stream",
     "text": [
      "[[1 0]\n",
      " [0 1]\n",
      " [0 2]\n",
      " [0 3]]\n",
      "[[4 1 3]\n",
      " [2 2 3]]\n"
     ]
    }
   ],
   "source": [
    "print(a)\n",
    "print(b)"
   ]
  },
  {
   "cell_type": "code",
   "execution_count": 17,
   "id": "74906018",
   "metadata": {},
   "outputs": [
    {
     "name": "stdout",
     "output_type": "stream",
     "text": [
      "[[4 1 3]\n",
      " [2 2 3]\n",
      " [4 4 6]\n",
      " [6 6 9]]\n"
     ]
    }
   ],
   "source": [
    "# 4 * 3 matice (Dot Product)\n",
    "c = np.dot(a, b)\n",
    "print(c)"
   ]
  },
  {
   "cell_type": "code",
   "execution_count": 19,
   "id": "71935559",
   "metadata": {},
   "outputs": [
    {
     "data": {
      "text/plain": [
       "'/Users/lukas/Work/prfuk/vyuka/geoinformatika/src/geoinformatika/strojove_hluboke_uceni'"
      ]
     },
     "execution_count": 19,
     "metadata": {},
     "output_type": "execute_result"
    }
   ],
   "source": [
    "os.getcwd()\n",
    "os.listdir()"
   ]
  },
  {
   "cell_type": "code",
   "execution_count": 76,
   "id": "f8786d82",
   "metadata": {},
   "outputs": [
    {
     "data": {
      "text/html": [
       "<div>\n",
       "<style scoped>\n",
       "    .dataframe tbody tr th:only-of-type {\n",
       "        vertical-align: middle;\n",
       "    }\n",
       "\n",
       "    .dataframe tbody tr th {\n",
       "        vertical-align: top;\n",
       "    }\n",
       "\n",
       "    .dataframe thead th {\n",
       "        text-align: right;\n",
       "    }\n",
       "</style>\n",
       "<table border=\"1\" class=\"dataframe\">\n",
       "  <thead>\n",
       "    <tr style=\"text-align: right;\">\n",
       "      <th></th>\n",
       "      <th>Glucose</th>\n",
       "      <th>BloodPressure</th>\n",
       "      <th>Diabetes</th>\n",
       "    </tr>\n",
       "  </thead>\n",
       "  <tbody>\n",
       "    <tr>\n",
       "      <th>0</th>\n",
       "      <td>86</td>\n",
       "      <td>104</td>\n",
       "      <td>1</td>\n",
       "    </tr>\n",
       "    <tr>\n",
       "      <th>1</th>\n",
       "      <td>78</td>\n",
       "      <td>111</td>\n",
       "      <td>0</td>\n",
       "    </tr>\n",
       "    <tr>\n",
       "      <th>2</th>\n",
       "      <td>79</td>\n",
       "      <td>114</td>\n",
       "      <td>0</td>\n",
       "    </tr>\n",
       "    <tr>\n",
       "      <th>3</th>\n",
       "      <td>77</td>\n",
       "      <td>105</td>\n",
       "      <td>0</td>\n",
       "    </tr>\n",
       "    <tr>\n",
       "      <th>4</th>\n",
       "      <td>90</td>\n",
       "      <td>100</td>\n",
       "      <td>1</td>\n",
       "    </tr>\n",
       "  </tbody>\n",
       "</table>\n",
       "</div>"
      ],
      "text/plain": [
       "   Glucose  BloodPressure  Diabetes\n",
       "0       86            104         1\n",
       "1       78            111         0\n",
       "2       79            114         0\n",
       "3       77            105         0\n",
       "4       90            100         1"
      ]
     },
     "execution_count": 76,
     "metadata": {},
     "output_type": "execute_result"
    }
   ],
   "source": [
    "# nacteni mini dat\n",
    "df = pd.read_csv('test_cls_data.csv')\n",
    "df.head()"
   ]
  },
  {
   "cell_type": "code",
   "execution_count": 24,
   "id": "72233f09",
   "metadata": {},
   "outputs": [],
   "source": [
    "# \n",
    "x = df[['Glucose','BloodPressure']] \n",
    "y = df['Diabetes']"
   ]
  },
  {
   "cell_type": "code",
   "execution_count": 26,
   "id": "bf50e6dc",
   "metadata": {},
   "outputs": [],
   "source": [
    "# sigmoidni funkce \n",
    "def sigmoid(input):\n",
    "    output = 1 / (1 + np.exp(-input))\n",
    "    return output"
   ]
  },
  {
   "cell_type": "code",
   "execution_count": 27,
   "id": "bb9c4c0c",
   "metadata": {},
   "outputs": [],
   "source": [
    "# derivace sigmoidni function\n",
    "def sigmoid_derivative(input):\n",
    "    return sigmoid(input) * (1.0 - sigmoid(input))"
   ]
  },
  {
   "cell_type": "code",
   "execution_count": 57,
   "id": "b2e9c71b",
   "metadata": {},
   "outputs": [],
   "source": [
    "# trenovani NN \n",
    "def train_network(features,label,weights ,bias,learning_rate,epochs):\n",
    "    for epoch in range(epochs):\n",
    "        dot_prod = np.dot(features, weights) + bias\n",
    "        # using sigmoid\n",
    "        preds = sigmoid(dot_prod) \n",
    "        # Vypocet ztrat \n",
    "        errors = preds - label \n",
    "        # sigmoid deriv. \n",
    "        deriva_cost_funct = errors \n",
    "        deriva_preds = sigmoid_derivative(preds) \n",
    "        deriva_product = deriva_cost_funct * deriva_preds \n",
    "        # update the weights \n",
    "        weights = weights - np.dot(features.T, deriva_product) * learning_rate\n",
    "        loss = errors.sum()\n",
    "        print(loss)\n",
    "    for i in deriva_product:\n",
    "        bias = bias - i * learning_rate\n",
    "    \n",
    "    return weights, bias  \n"
   ]
  },
  {
   "cell_type": "code",
   "execution_count": 58,
   "id": "877798e3",
   "metadata": {},
   "outputs": [
    {
     "data": {
      "text/plain": [
       "(5, 2)"
      ]
     },
     "execution_count": 58,
     "metadata": {},
     "output_type": "execute_result"
    }
   ],
   "source": [
    "x.shape"
   ]
  },
  {
   "cell_type": "code",
   "execution_count": 64,
   "id": "76fb32fe",
   "metadata": {},
   "outputs": [
    {
     "data": {
      "text/plain": [
       "(5,)"
      ]
     },
     "execution_count": 64,
     "metadata": {},
     "output_type": "execute_result"
    }
   ],
   "source": [
    "y.shape"
   ]
  },
  {
   "cell_type": "code",
   "execution_count": 65,
   "id": "173179a8",
   "metadata": {},
   "outputs": [
    {
     "data": {
      "text/plain": [
       "(5, 1)"
      ]
     },
     "execution_count": 65,
     "metadata": {},
     "output_type": "execute_result"
    }
   ],
   "source": [
    "y.values.reshape(y.shape[0],1).shape"
   ]
  },
  {
   "cell_type": "code",
   "execution_count": 68,
   "id": "1d912f21",
   "metadata": {},
   "outputs": [],
   "source": [
    "np.random.seed(10)\n",
    "features = x\n",
    "label = y.values.reshape(y.shape[0],1) \n",
    "\n",
    "weights = np.random.rand(2,1) \n",
    "bias = np.random.rand(1) \n",
    "learning_rate = 0.0004\n",
    "epochs = 20"
   ]
  },
  {
   "cell_type": "code",
   "execution_count": 71,
   "id": "ab114ee8",
   "metadata": {},
   "outputs": [
    {
     "name": "stdout",
     "output_type": "stream",
     "text": [
      "3.0\n",
      "3.0\n",
      "3.0\n",
      "3.0\n",
      "3.0\n",
      "3.0\n",
      "3.0\n",
      "2.9999999999999867\n",
      "2.9999999999990044\n",
      "2.999999999925474\n",
      "2.9999999943681033\n",
      "2.999999570558996\n",
      "2.9999669873696293\n",
      "2.9974464551848943\n",
      "2.817687239179599\n",
      "0.8439294392698701\n",
      "0.2898900344277985\n",
      "0.1623952175091683\n",
      "0.10040144943879462\n",
      "0.06321005690835024\n"
     ]
    }
   ],
   "source": [
    "weights_final, bias_final = train_network(features, label, weights, bias, learning_rate, epochs)"
   ]
  },
  {
   "cell_type": "code",
   "execution_count": 75,
   "id": "cd9024ce",
   "metadata": {},
   "outputs": [
    {
     "name": "stdout",
     "output_type": "stream",
     "text": [
      "Vysledek predikce: [ True]\n"
     ]
    }
   ],
   "source": [
    "# Predikce \n",
    "inputs = np.array([[86,104]])\n",
    "dot_prod = np.dot(inputs, weights_final) + bias_final\n",
    "preds = sigmoid(dot_prod) >= 1/2\n",
    "print('Vysledek predikce: {}'.format(preds[0]))"
   ]
  },
  {
   "cell_type": "code",
   "execution_count": null,
   "id": "b9edbf79",
   "metadata": {},
   "outputs": [],
   "source": []
  }
 ],
 "metadata": {
  "kernelspec": {
   "display_name": "Python 3 (ipykernel)",
   "language": "python",
   "name": "python3"
  },
  "language_info": {
   "codemirror_mode": {
    "name": "ipython",
    "version": 3
   },
   "file_extension": ".py",
   "mimetype": "text/x-python",
   "name": "python",
   "nbconvert_exporter": "python",
   "pygments_lexer": "ipython3",
   "version": "3.9.7"
  }
 },
 "nbformat": 4,
 "nbformat_minor": 5
}
