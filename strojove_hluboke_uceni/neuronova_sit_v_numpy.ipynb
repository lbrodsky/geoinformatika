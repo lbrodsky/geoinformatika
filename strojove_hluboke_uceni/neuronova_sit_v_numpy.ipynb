{
 "cells": [
  {
   "cell_type": "markdown",
   "id": "05663c5f",
   "metadata": {},
   "source": [
    "# ___\n",
    "# [ Geoinformatika ]\n",
    "\n",
    "## Strojové učení\n",
    "\n",
    "\n",
    "**Katedra aplikované geoinformatiky a kartografie**, Přírodovědecká fakulta, Univerzita Karlova\n",
    "Albertov 6, 128 43 Praha 2\n",
    "\n",
    "*Lukáš Brodský lukas.brodsky@natur.cuni.cz*"
   ]
  },
  {
   "cell_type": "markdown",
   "id": "f09d39b8",
   "metadata": {},
   "source": [
    "### Neuronová síť v Numerickém Pythonu \n",
    "bez dedikovaných knihoven (PyTorch, TensorFlow, Keras) "
   ]
  },
  {
   "cell_type": "code",
   "execution_count": null,
   "id": "5007dbd3",
   "metadata": {},
   "outputs": [],
   "source": [
    "... "
   ]
  },
  {
   "cell_type": "code",
   "execution_count": 40,
   "id": "4edf9f03",
   "metadata": {},
   "outputs": [
    {
     "name": "stdout",
     "output_type": "stream",
     "text": [
      "Numpy verze: 1.21.4\n",
      "Pandas verze: 1.3.4\n"
     ]
    }
   ],
   "source": [
    "# Knihovny pro praci\n",
    "import os\n",
    "import numpy as np\n",
    "print('Numpy verze: {}'.format(np.__version__))\n",
    "import pandas as pd \n",
    "print('Pandas verze: {}'.format(pd.__version__))\n",
    "\n",
    "import matplotlib.pyplot as plt\n",
    "# Jupyter notebook vizualizace\n",
    "%matplotlib inline\n",
    "import seaborn as sns"
   ]
  },
  {
   "cell_type": "code",
   "execution_count": 2,
   "id": "0a4477bd",
   "metadata": {},
   "outputs": [],
   "source": [
    "# Numpy matice\n",
    "# 4 * 2 \n",
    "a = np.array([[1, 0], [0, 1], [0, 2], [0, 3]])\n",
    "# 2 * 3 \n",
    "b = np.array([[4, 1, 3], [2, 2, 3]])"
   ]
  },
  {
   "cell_type": "code",
   "execution_count": 4,
   "id": "ca408df3",
   "metadata": {},
   "outputs": [
    {
     "name": "stdout",
     "output_type": "stream",
     "text": [
      "[[1 0]\n",
      " [0 1]\n",
      " [0 2]\n",
      " [0 3]]\n"
     ]
    }
   ],
   "source": [
    "print(a)"
   ]
  },
  {
   "cell_type": "code",
   "execution_count": 5,
   "id": "74906018",
   "metadata": {},
   "outputs": [
    {
     "name": "stdout",
     "output_type": "stream",
     "text": [
      "[[4 1 3]\n",
      " [2 2 3]\n",
      " [4 4 6]\n",
      " [6 6 9]]\n"
     ]
    }
   ],
   "source": [
    "# 4 * 3 matice (Dot Product)\n",
    "c = np.dot(a, b)\n",
    "print(c)"
   ]
  },
  {
   "cell_type": "code",
   "execution_count": 49,
   "id": "71935559",
   "metadata": {},
   "outputs": [
    {
     "data": {
      "text/plain": [
       "['rozhodovaci_strom.ipynb',\n",
       " 'instalace_overeni_balicku.ipynb',\n",
       " 'instalace_overeni.py',\n",
       " 'neuronova_sit_v_numpy_proto2.ipynb',\n",
       " 'test_data_X_y.csv',\n",
       " 'iris-dataset.png',\n",
       " 'test_cls_data.csv',\n",
       " '_tmp_',\n",
       " '.ipynb_checkpoints',\n",
       " 'check_packages.ipynb_files',\n",
       " 'neuronova_sit_v_numpy_proto.ipynb']"
      ]
     },
     "execution_count": 49,
     "metadata": {},
     "output_type": "execute_result"
    }
   ],
   "source": [
    "os.getcwd()\n",
    "os.listdir()"
   ]
  },
  {
   "cell_type": "code",
   "execution_count": 28,
   "id": "f8786d82",
   "metadata": {},
   "outputs": [
    {
     "data": {
      "text/html": [
       "<div>\n",
       "<style scoped>\n",
       "    .dataframe tbody tr th:only-of-type {\n",
       "        vertical-align: middle;\n",
       "    }\n",
       "\n",
       "    .dataframe tbody tr th {\n",
       "        vertical-align: top;\n",
       "    }\n",
       "\n",
       "    .dataframe thead th {\n",
       "        text-align: right;\n",
       "    }\n",
       "</style>\n",
       "<table border=\"1\" class=\"dataframe\">\n",
       "  <thead>\n",
       "    <tr style=\"text-align: right;\">\n",
       "      <th></th>\n",
       "      <th>x1</th>\n",
       "      <th>x2</th>\n",
       "      <th>y</th>\n",
       "    </tr>\n",
       "  </thead>\n",
       "  <tbody>\n",
       "    <tr>\n",
       "      <th>0</th>\n",
       "      <td>86</td>\n",
       "      <td>104</td>\n",
       "      <td>1</td>\n",
       "    </tr>\n",
       "    <tr>\n",
       "      <th>1</th>\n",
       "      <td>78</td>\n",
       "      <td>111</td>\n",
       "      <td>0</td>\n",
       "    </tr>\n",
       "    <tr>\n",
       "      <th>2</th>\n",
       "      <td>79</td>\n",
       "      <td>114</td>\n",
       "      <td>0</td>\n",
       "    </tr>\n",
       "    <tr>\n",
       "      <th>3</th>\n",
       "      <td>77</td>\n",
       "      <td>105</td>\n",
       "      <td>0</td>\n",
       "    </tr>\n",
       "    <tr>\n",
       "      <th>4</th>\n",
       "      <td>90</td>\n",
       "      <td>100</td>\n",
       "      <td>1</td>\n",
       "    </tr>\n",
       "  </tbody>\n",
       "</table>\n",
       "</div>"
      ],
      "text/plain": [
       "   x1   x2  y\n",
       "0  86  104  1\n",
       "1  78  111  0\n",
       "2  79  114  0\n",
       "3  77  105  0\n",
       "4  90  100  1"
      ]
     },
     "execution_count": 28,
     "metadata": {},
     "output_type": "execute_result"
    }
   ],
   "source": [
    "# nacteni mini dat (pozor data maji jediny ucel - demonstrovat proces uceni neuronove site!)\n",
    "df = pd.read_csv('test_data_X_y.csv')\n",
    "df.head()"
   ]
  },
  {
   "cell_type": "code",
   "execution_count": 41,
   "id": "505042ab",
   "metadata": {},
   "outputs": [
    {
     "data": {
      "text/plain": [
       "<seaborn.axisgrid.PairGrid at 0x1162b66a0>"
      ]
     },
     "execution_count": 41,
     "metadata": {},
     "output_type": "execute_result"
    },
    {
     "data": {
      "image/png": "[encoded data removed]",
      "text/plain": [
       "<Figure size 402.375x360 with 6 Axes>"
      ]
     },
     "metadata": {
      "needs_background": "light"
     },
     "output_type": "display_data"
    }
   ],
   "source": [
    "# vizualizace atributu - pruzkumova analyza \n",
    "sns.pairplot(data=df, hue = 'y')"
   ]
  },
  {
   "cell_type": "code",
   "execution_count": 42,
   "id": "72233f09",
   "metadata": {},
   "outputs": [],
   "source": [
    "# vstupni (X) a vystupni (y) mnoziny\n",
    "X = df[['x1','x2']] \n",
    "y = df['y']"
   ]
  },
  {
   "cell_type": "code",
   "execution_count": 45,
   "id": "39b04fd1",
   "metadata": {},
   "outputs": [
    {
     "data": {
      "text/plain": [
       "(5, 2)"
      ]
     },
     "execution_count": 45,
     "metadata": {},
     "output_type": "execute_result"
    }
   ],
   "source": [
    "# Priprava dat (dimenzionalita)\n",
    "X.shape"
   ]
  },
  {
   "cell_type": "code",
   "execution_count": 46,
   "id": "10be4830",
   "metadata": {},
   "outputs": [
    {
     "data": {
      "text/plain": [
       "(5,)"
      ]
     },
     "execution_count": 46,
     "metadata": {},
     "output_type": "execute_result"
    }
   ],
   "source": [
    "y.shape"
   ]
  },
  {
   "cell_type": "code",
   "execution_count": 48,
   "id": "b1835b52",
   "metadata": {},
   "outputs": [
    {
     "data": {
      "text/plain": [
       "(5, 1)"
      ]
     },
     "execution_count": 48,
     "metadata": {},
     "output_type": "execute_result"
    }
   ],
   "source": [
    "# uprava do stejne dimenzionality \n",
    "y.values.reshape(y.shape[0],1).shape"
   ]
  },
  {
   "cell_type": "markdown",
   "id": "7ca0e119",
   "metadata": {},
   "source": [
    "### Neuronová sit"
   ]
  },
  {
   "cell_type": "markdown",
   "id": "58b70838",
   "metadata": {},
   "source": [
    "Sigmoid (logisticka funkce)\n",
    "\n",
    "$$ g(z) =  \\frac{\\mathrm{1} }{\\mathrm{1} + e^{-z} }  $$ \n",
    "\n",
    "\n",
    "Derivace funkce\n",
    "\n",
    "$$ g'(z) =  g(z) . (1 - g(z))  $$ \n"
   ]
  },
  {
   "cell_type": "code",
   "execution_count": 43,
   "id": "bf50e6dc",
   "metadata": {},
   "outputs": [],
   "source": [
    "# sigmoidni funkce \n",
    "def sigmoid(vstup):\n",
    "    vystup = 1 / (1 + np.exp(-vstup))\n",
    "    return vystup\n"
   ]
  },
  {
   "cell_type": "code",
   "execution_count": 44,
   "id": "bb9c4c0c",
   "metadata": {},
   "outputs": [],
   "source": [
    "# derivace sigmoidni function\n",
    "def sigmoid_derivace(vstup):\n",
    "    return sigmoid(vstup) * (1.0 - sigmoid(vstup))\n"
   ]
  },
  {
   "cell_type": "code",
   "execution_count": 32,
   "id": "b2e9c71b",
   "metadata": {},
   "outputs": [],
   "source": [
    "# Uceni neuronove site\n",
    "def uceni_site(priznaky, reference, vahy, bias, rychlost_uceni, epochy):\n",
    "    for epocha in range(epochy):\n",
    "        dot_prod = np.dot(priznaky, vahy) + bias\n",
    "        # sigmoid\n",
    "        predikce = sigmoid(dot_prod) \n",
    "        # Vypocet ztrat \n",
    "        chyby = predikce - reference \n",
    "        # sigmoid deriv. \n",
    "        deriva_ztratova_funkce = chyby \n",
    "        deriva_predikce = sigmoid_derivace(predikce) \n",
    "        deriva_produkt = deriva_ztratova_funkce * deriva_predikce \n",
    "        # aktualizace vah\n",
    "        vahy = vahy - np.dot(priznaky.T, deriva_produkt) * rychlost_uceni\n",
    "        ztrata = chyby.sum()\n",
    "        print(ztrata)\n",
    "    for i in deriva_produkt:\n",
    "        bias = bias - i * rychlost_uceni\n",
    "    \n",
    "    return vahy, bias  \n"
   ]
  },
  {
   "cell_type": "code",
   "execution_count": null,
   "id": "29a3f564",
   "metadata": {},
   "outputs": [],
   "source": [
    "# prejmenovani vstupu, vystupu\n",
    "priznaky = X\n",
    "reference = y.values.reshape(y.shape[0],1) "
   ]
  },
  {
   "cell_type": "code",
   "execution_count": 36,
   "id": "1d912f21",
   "metadata": {},
   "outputs": [],
   "source": [
    "# inicializace paramteru (nahodna)\n",
    "np.random.seed(10)\n",
    "vahy = np.random.rand(2,1) \n",
    "bias = np.random.rand(1) \n",
    "\n",
    "# nastav rychlost uceni a pocet ucicich se cyklu \n",
    "rychlost_uceni = 0.0004\n",
    "epochy = 20"
   ]
  },
  {
   "cell_type": "code",
   "execution_count": 37,
   "id": "ab114ee8",
   "metadata": {},
   "outputs": [
    {
     "name": "stdout",
     "output_type": "stream",
     "text": [
      "3.0\n",
      "3.0\n",
      "3.0\n",
      "3.0\n",
      "3.0\n",
      "3.0\n",
      "3.0\n",
      "2.9999999999999867\n",
      "2.9999999999990044\n",
      "2.999999999925474\n",
      "2.9999999943681033\n",
      "2.999999570558996\n",
      "2.9999669873696293\n",
      "2.9974464551848943\n",
      "2.817687239179599\n",
      "0.8439294392698701\n",
      "0.2898900344277985\n",
      "0.1623952175091683\n",
      "0.10040144943879462\n",
      "0.06321005690835024\n"
     ]
    }
   ],
   "source": [
    "vahy_finalni, bias_finalni = uceni_site(priznaky, reference, vahy, bias, rychlost_uceni, epochy)"
   ]
  },
  {
   "cell_type": "code",
   "execution_count": 38,
   "id": "cd9024ce",
   "metadata": {},
   "outputs": [
    {
     "name": "stdout",
     "output_type": "stream",
     "text": [
      "Vysledek predikce: [ True]\n"
     ]
    }
   ],
   "source": [
    "# Predikce \n",
    "nova_X = np.array([[86,104]])\n",
    "dot_prod = np.dot(nova_X, vahy_finalni) + bias_finalni\n",
    "nova_predikce = sigmoid(dot_prod) >= 1/2\n",
    "print('Vysledek predikce: {}'.format(nova_predikce[0]))"
   ]
  },
  {
   "cell_type": "code",
   "execution_count": null,
   "id": "b9edbf79",
   "metadata": {},
   "outputs": [],
   "source": [
    "# ukol: zapis ztraty pro jednoltive epochy a vizualizuj graficky zavislot (x: epochy, y: ztrata)\n",
    "# zvol vetsi pocet epoch\n",
    "# otazka: pri jakem poctu epoch muzeme uceni zastavit? "
   ]
  }
 ],
 "metadata": {
  "kernelspec": {
   "display_name": "Python 3 (ipykernel)",
   "language": "python",
   "name": "python3"
  },
  "language_info": {
   "codemirror_mode": {
    "name": "ipython",
    "version": 3
   },
   "file_extension": ".py",
   "mimetype": "text/x-python",
   "name": "python",
   "nbconvert_exporter": "python",
   "pygments_lexer": "ipython3",
   "version": "3.9.7"
  }
 },
 "nbformat": 4,
 "nbformat_minor": 5
}
